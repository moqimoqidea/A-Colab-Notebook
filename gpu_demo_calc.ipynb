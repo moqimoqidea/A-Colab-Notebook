{
  "nbformat": 4,
  "nbformat_minor": 0,
  "metadata": {
    "colab": {
      "provenance": [],
      "gpuType": "T4",
      "authorship_tag": "ABX9TyMP7zg6aNC2WuUQ4cdV/WZp",
      "include_colab_link": true
    },
    "kernelspec": {
      "name": "python3",
      "display_name": "Python 3"
    },
    "language_info": {
      "name": "python"
    },
    "accelerator": "GPU"
  },
  "cells": [
    {
      "cell_type": "markdown",
      "metadata": {
        "id": "view-in-github",
        "colab_type": "text"
      },
      "source": [
        "<a href=\"https://colab.research.google.com/github/moqimoqidea/A-Colab-Notebook/blob/master/gpu_demo_calc.ipynb\" target=\"_parent\"><img src=\"https://colab.research.google.com/assets/colab-badge.svg\" alt=\"Open In Colab\"/></a>"
      ]
    },
    {
      "cell_type": "markdown",
      "source": [
        "# 验证当前环境是否支持GPU"
      ],
      "metadata": {
        "id": "drWEY_VoyTrT"
      }
    },
    {
      "cell_type": "code",
      "execution_count": null,
      "metadata": {
        "id": "770dchp0ihX-",
        "colab": {
          "base_uri": "https://localhost:8080/"
        },
        "outputId": "f7c60cd7-776a-427c-c48b-4b8f451d66f3"
      },
      "outputs": [
        {
          "output_type": "stream",
          "name": "stdout",
          "text": [
            "Sun Mar 10 07:08:06 2024       \n",
            "+---------------------------------------------------------------------------------------+\n",
            "| NVIDIA-SMI 535.104.05             Driver Version: 535.104.05   CUDA Version: 12.2     |\n",
            "|-----------------------------------------+----------------------+----------------------+\n",
            "| GPU  Name                 Persistence-M | Bus-Id        Disp.A | Volatile Uncorr. ECC |\n",
            "| Fan  Temp   Perf          Pwr:Usage/Cap |         Memory-Usage | GPU-Util  Compute M. |\n",
            "|                                         |                      |               MIG M. |\n",
            "|=========================================+======================+======================|\n",
            "|   0  Tesla T4                       Off | 00000000:00:04.0 Off |                    0 |\n",
            "| N/A   43C    P8               9W /  70W |      0MiB / 15360MiB |      0%      Default |\n",
            "|                                         |                      |                  N/A |\n",
            "+-----------------------------------------+----------------------+----------------------+\n",
            "                                                                                         \n",
            "+---------------------------------------------------------------------------------------+\n",
            "| Processes:                                                                            |\n",
            "|  GPU   GI   CI        PID   Type   Process name                            GPU Memory |\n",
            "|        ID   ID                                                             Usage      |\n",
            "|=======================================================================================|\n",
            "|  No running processes found                                                           |\n",
            "+---------------------------------------------------------------------------------------+\n"
          ]
        }
      ],
      "source": [
        "!nvidia-smi"
      ]
    },
    {
      "cell_type": "markdown",
      "source": [
        "# 安装依赖"
      ],
      "metadata": {
        "id": "-_C4ELbIybg1"
      }
    },
    {
      "cell_type": "code",
      "source": [
        "!pip install -U numpy cupy-cuda12x"
      ],
      "metadata": {
        "colab": {
          "base_uri": "https://localhost:8080/",
          "height": 324
        },
        "id": "pK0vHBB7LVs0",
        "outputId": "0378a62c-681d-4846-855e-1c47d3580b53"
      },
      "execution_count": null,
      "outputs": [
        {
          "output_type": "stream",
          "name": "stdout",
          "text": [
            "Requirement already satisfied: numpy in /usr/local/lib/python3.10/dist-packages (1.26.4)\n",
            "Requirement already satisfied: cupy-cuda12x in /usr/local/lib/python3.10/dist-packages (12.2.0)\n",
            "Collecting cupy-cuda12x\n",
            "  Downloading cupy_cuda12x-13.0.0-cp310-cp310-manylinux2014_x86_64.whl (88.3 MB)\n",
            "\u001b[2K     \u001b[90m━━━━━━━━━━━━━━━━━━━━━━━━━━━━━━━━━━━━━━━━\u001b[0m \u001b[32m88.3/88.3 MB\u001b[0m \u001b[31m2.0 MB/s\u001b[0m eta \u001b[36m0:00:00\u001b[0m\n",
            "\u001b[?25hRequirement already satisfied: fastrlock>=0.5 in /usr/local/lib/python3.10/dist-packages (from cupy-cuda12x) (0.8.2)\n",
            "Installing collected packages: cupy-cuda12x\n",
            "  Attempting uninstall: cupy-cuda12x\n",
            "    Found existing installation: cupy-cuda12x 12.2.0\n",
            "    Uninstalling cupy-cuda12x-12.2.0:\n",
            "      Successfully uninstalled cupy-cuda12x-12.2.0\n",
            "Successfully installed cupy-cuda12x-13.0.0\n"
          ]
        },
        {
          "output_type": "display_data",
          "data": {
            "application/vnd.colab-display-data+json": {
              "pip_warning": {
                "packages": [
                  "cupy_backends",
                  "cupyx"
                ]
              },
              "id": "d42061602bf746e789676e304228ed46"
            }
          },
          "metadata": {}
        }
      ]
    },
    {
      "cell_type": "markdown",
      "source": [
        "# GPU vs CPU: Large list sum calc"
      ],
      "metadata": {
        "id": "-IlmmfKNJHrR"
      }
    },
    {
      "cell_type": "code",
      "source": [
        "import cupy as cp\n",
        "import numpy as np\n",
        "import time\n",
        "\n",
        "def gpu_calc(size):\n",
        "    a_gpu = cp.random.rand(size)\n",
        "    b_gpu = cp.random.rand(size)\n",
        "\n",
        "    start_time = time.time()\n",
        "    _ = a_gpu + b_gpu\n",
        "    cp.cuda.Stream.null.synchronize()\n",
        "    gpu_time = time.time() - start_time\n",
        "\n",
        "    print(f\"GPU计算时间: {gpu_time}秒\")\n",
        "\n",
        "def cpu_calc(size):\n",
        "    a = np.random.rand(size)\n",
        "    b = np.random.rand(size)\n",
        "\n",
        "    start_time = time.time()\n",
        "    _ = a + b\n",
        "    cpu_time = time.time() - start_time\n",
        "\n",
        "    print(f\"CPU计算时间: {cpu_time}秒\")\n",
        "\n",
        "if __name__ == \"__main__\":\n",
        "    size = 1_000_000_00\n",
        "    gpu_calc(size)\n",
        "    cpu_calc(size)"
      ],
      "metadata": {
        "colab": {
          "base_uri": "https://localhost:8080/"
        },
        "id": "KemmU6prJODr",
        "outputId": "50946fbd-f979-4ead-d975-ae0120f5831e"
      },
      "execution_count": null,
      "outputs": [
        {
          "output_type": "stream",
          "name": "stdout",
          "text": [
            "GPU计算时间: 0.03585195541381836秒\n",
            "CPU计算时间: 0.30374646186828613秒\n"
          ]
        }
      ]
    }
  ]
}